{
 "cells": [
  {
   "cell_type": "code",
   "execution_count": 13,
   "id": "92f7ebd5",
   "metadata": {},
   "outputs": [],
   "source": [
    "import numpy as np\n",
    "import pandas as pd\n",
    "import requests\n",
    "import json\n",
    "import os\n",
    "import dotenv"
   ]
  },
  {
   "cell_type": "markdown",
   "id": "51285d8e",
   "metadata": {},
   "source": [
    "## Get ENV Variables"
   ]
  },
  {
   "cell_type": "code",
   "execution_count": 17,
   "id": "58b45ed5",
   "metadata": {},
   "outputs": [],
   "source": [
    "dotenv.load_dotenv()\n",
    "newskey = os.getenv(\"newskey\")\n",
    "congresskey = os.getenv(\"congresskey\")"
   ]
  },
  {
   "cell_type": "markdown",
   "id": "61f3d27c",
   "metadata": {},
   "source": [
    "## News API Redone"
   ]
  },
  {
   "cell_type": "code",
   "execution_count": 15,
   "id": "fd70746e",
   "metadata": {},
   "outputs": [
    {
     "data": {
      "text/plain": [
       "<Response [200]>"
      ]
     },
     "execution_count": 15,
     "metadata": {},
     "output_type": "execute_result"
    }
   ],
   "source": [
    "useragent = 'Scissorballs/0.0 (nga3rp@virginia.edu) python-requests/2.32.5'\n",
    "headers = {'User-Agent': useragent, 'From': 'nga3rp@virginia.edu'}\n",
    "\n",
    "root = 'https://newsapi.org/'\n",
    "endpoint = 'v2/everything'\n",
    "\n",
    "parameters = {'apiKey': newskey,\n",
    "              'q': '\"John McGuire\"'}\n",
    "\n",
    "r = requests.get(root + endpoint, headers = headers, params = parameters)\n",
    "r"
   ]
  },
  {
   "cell_type": "code",
   "execution_count": 16,
   "id": "231ca202",
   "metadata": {},
   "outputs": [
    {
     "data": {
      "text/plain": [
       "{'status': 'ok',\n",
       " 'totalResults': 5,\n",
       " 'articles': [{'source': {'id': None, 'name': 'nj.com'},\n",
       "   'author': 'Rachel Cohen',\n",
       "   'title': 'Trump supporters, MAGA celebrate as FBI raids home of John Bolton: ‘Perp walk him!’',\n",
       "   'description': \"Some of Trump's most ardent supporters applauded an early morning development.\",\n",
       "   'url': 'https://www.nj.com/politics/2025/08/maga-watches-with-glee-as-fbi-raids-home-of-ex-trump-adviser-perp-walk-him.html',\n",
       "   'urlToImage': 'https://s.yimg.com/ny/api/res/1.2/fuHecV42scO1kLKfZNfwRQ--/YXBwaWQ9aGlnaGxhbmRlcjt3PTEyMDA7aD04MDA7Y2Y9d2VicA--/https://media.zenfs.com/en/nj_com_articles_950/8b8f77f34c0ec1b6d2fe12fb3c125607',\n",
       "   'publishedAt': '2025-08-22T13:02:06Z',\n",
       "   'content': 'MAGA world is praising an early morning FBI raid on the Maryland home of John Bolton, President Donald Trumps former national security adviser, as part of an investigation into the handling of classi… [+3382 chars]'},\n",
       "  {'source': {'id': 'newsweek', 'name': 'Newsweek'},\n",
       "   'author': 'James Bickerton',\n",
       "   'title': \"MAGA Celebrates John Bolton's Home Being Raided: 'How Does It Feel?'\",\n",
       "   'description': \"Former White House national security advisor John Bolton's home was raided on Friday morning.\",\n",
       "   'url': 'https://www.newsweek.com/maga-celebrates-john-boltons-home-being-raided-how-does-it-feel-2117725',\n",
       "   'urlToImage': 'https://d.newsweek.com/en/full/2707813/bolton.jpg',\n",
       "   'publishedAt': '2025-08-22T13:45:43Z',\n",
       "   'content': \"A number of prominent supporters of Donald Trump's Make America Great Again (MAGA) movement have celebrated on social media after the FBI raided the home of John Bolton on Friday morning.\\r\\nAccording … [+2111 chars]\"},\n",
       "  {'source': {'id': None, 'name': 'Globalsecurity.org'},\n",
       "   'author': 'John Pike',\n",
       "   'title': \"FBI raids home of Trump's former national security advisor John Bolton\",\n",
       "   'description': \"The FBI has raided the home of Donald Trump's former National Security Advisor, John Bolton, reportedly in connection with allegations that he possessed classified documents.\",\n",
       "   'url': 'https://www.globalsecurity.org/intell/library/news/2025/intell-250822-presstv01.htm',\n",
       "   'urlToImage': None,\n",
       "   'publishedAt': '2025-08-23T09:19:55Z',\n",
       "   'content': \"Iran Press TV\\r\\nFriday, 22 August 2025 3:41 PM\\r\\nThe FBI has raided the home of Donald Trump's former National Security Advisor, John Bolton, reportedly in connection with allegations that he possessed… [+3093 chars]\"},\n",
       "  {'source': {'id': 'financial-post', 'name': 'Financial Post'},\n",
       "   'author': 'GlobeNewswire',\n",
       "   'title': 'Hitachi announces historic $1 billion USD manufacturing investment to power America’s energy future through production of critical grid infrastructure',\n",
       "   'description': 'Trump administration-backed investment answers surging demand for transformers and high-voltage equipment needed to support AI data center expansion — $457 million USD is dedicated to a new power transformer factory in Virginia, the largest such facility in t…',\n",
       "   'url': 'https://financialpost.com/globe-newswire/hitachi-announces-historic-1-billion-usd-manufacturing-investment-to-power-americas-energy-future-through-production-of-critical-grid-infrastructure',\n",
       "   'urlToImage': 'https://smartcdn.gprod.postmedia.digital/financialpost/wp-content/uploads/2025/09/hitachi-energy-s-south-boston-va-campus.jpeg',\n",
       "   'publishedAt': '2025-09-04T12:08:09Z',\n",
       "   'content': 'Thank you, Hitachi Energy, for trusting Virginia, again! Hard-working Virginians and a business-friendly environment are what first brought Hitachi Energy to the Commonwealth. Now, after years of suc… [+4093 chars]'},\n",
       "  {'source': {'id': None, 'name': 'GlobeNewswire'},\n",
       "   'author': 'Hitachi Energy Ltd',\n",
       "   'title': 'Hitachi announces historic $1 billion USD manufacturing investment to power America’s energy future through production of critical grid infrastructure',\n",
       "   'description': 'Trump administration-backed investment answers surging demand for transformers and high-voltage equipment needed to support AI data center expansion -- $457 million USD is dedicated to a new power transformer factory in Virginia, the largest such facility in …',\n",
       "   'url': 'https://www.globenewswire.com/news-release/2025/09/04/3144485/0/en/Hitachi-announces-historic-1-billion-USD-manufacturing-investment-to-power-America-s-energy-future-through-production-of-critical-grid-infrastructure.html',\n",
       "   'urlToImage': 'https://ml.globenewswire.com/Resource/Download/8709e6e5-e652-4bd1-b023-c4593f013e71',\n",
       "   'publishedAt': '2025-09-04T12:07:00Z',\n",
       "   'content': 'Raleigh, North Carolina and Zurich, Switzerland, Sept. 04, 2025 (GLOBE NEWSWIRE) -- Hitachi Energy, a wholly owned subsidiary of Hitachi, Ltd., and global leader in electrification, today announced a… [+9413 chars]'}]}"
      ]
     },
     "execution_count": 16,
     "metadata": {},
     "output_type": "execute_result"
    }
   ],
   "source": [
    "r.json()"
   ]
  },
  {
   "cell_type": "markdown",
   "id": "ef753694",
   "metadata": {},
   "source": [
    "## Congress API"
   ]
  },
  {
   "cell_type": "code",
   "execution_count": 28,
   "id": "6c41e6f5",
   "metadata": {},
   "outputs": [
    {
     "data": {
      "text/plain": [
       "{'members': [{'bioguideId': 'M001239',\n",
       "   'depiction': {'attribution': 'Image courtesy of the Member',\n",
       "    'imageUrl': 'https://www.congress.gov/img/member/67744ba20b34857ecc909149_200.jpg'},\n",
       "   'district': 5,\n",
       "   'name': 'McGuire, John J.',\n",
       "   'partyName': 'Republican',\n",
       "   'state': 'Virginia',\n",
       "   'terms': {'item': [{'chamber': 'House of Representatives',\n",
       "      'startYear': 2025}]},\n",
       "   'updateDate': '2025-09-11T07:45:28Z',\n",
       "   'url': 'https://api.congress.gov/v3/member/M001239?format=json'}],\n",
       " 'pagination': {'count': 1},\n",
       " 'request': {'contentType': 'application/json', 'format': 'json'}}"
      ]
     },
     "execution_count": 28,
     "metadata": {},
     "output_type": "execute_result"
    }
   ],
   "source": [
    "root = 'https://api.congress.gov/v3/'\n",
    "stateCode = 'VA'\n",
    "district = '5'\n",
    "endpoint = f'/member/{stateCode}/{district}'\n",
    "\n",
    "params = {'api_key': congresskey,\n",
    "          'format': 'json',\n",
    "          'currentMember': 'true'}\n",
    "\n",
    "r = requests.get(root + endpoint, headers = headers, params = params)\n",
    "r.json()"
   ]
  },
  {
   "cell_type": "code",
   "execution_count": null,
   "id": "ee572f09",
   "metadata": {},
   "outputs": [
    {
     "data": {
      "text/plain": [
       "'M001239'"
      ]
     },
     "execution_count": 31,
     "metadata": {},
     "output_type": "execute_result"
    }
   ],
   "source": [
    "r.json()['members'][0]['bioguideId']"
   ]
  },
  {
   "cell_type": "code",
   "execution_count": 32,
   "id": "5ea3bcdc",
   "metadata": {},
   "outputs": [],
   "source": [
    "bioguideId = r.json()['members'][0]['bioguideId']"
   ]
  },
  {
   "cell_type": "code",
   "execution_count": 34,
   "id": "c88bff10",
   "metadata": {},
   "outputs": [
    {
     "data": {
      "text/plain": [
       "{'pagination': {'count': 7},\n",
       " 'request': {'bioguideId': 'm001239',\n",
       "  'contentType': 'application/json',\n",
       "  'format': 'json'},\n",
       " 'sponsoredLegislation': [{'congress': 119,\n",
       "   'introducedDate': '2025-09-09',\n",
       "   'latestAction': {'actionDate': '2025-09-09',\n",
       "    'text': 'Referred to the House Committee on Homeland Security.'},\n",
       "   'number': '5218',\n",
       "   'policyArea': {'name': None},\n",
       "   'title': 'Border Wall Status Act',\n",
       "   'type': 'HR',\n",
       "   'url': 'https://api.congress.gov/v3/bill/119/hr/5218?format=json'},\n",
       "  {'congress': 119,\n",
       "   'introducedDate': '2025-09-03',\n",
       "   'latestAction': {'actionDate': '2025-09-10',\n",
       "    'text': 'Ordered to be Reported (Amended) by the Yeas and Nays: 25 - 19.'},\n",
       "   'number': '5103',\n",
       "   'policyArea': {'name': 'Public Lands and Natural Resources'},\n",
       "   'title': 'Make the District of Columbia Safe and Beautiful Act',\n",
       "   'type': 'HR',\n",
       "   'url': 'https://api.congress.gov/v3/bill/119/hr/5103?format=json'},\n",
       "  {'congress': 119,\n",
       "   'introducedDate': '2025-07-22',\n",
       "   'latestAction': {'actionDate': '2025-07-22',\n",
       "    'text': 'Referred to the House Committee on Energy and Commerce.'},\n",
       "   'number': '4603',\n",
       "   'policyArea': {'name': 'Energy'},\n",
       "   'title': 'FAIR Act',\n",
       "   'type': 'HR',\n",
       "   'url': 'https://api.congress.gov/v3/bill/119/hr/4603?format=json'},\n",
       "  {'congress': 119,\n",
       "   'introducedDate': '2025-05-29',\n",
       "   'latestAction': {'actionDate': '2025-06-12',\n",
       "    'text': 'Subcommittee Hearings Held'},\n",
       "   'number': '3643',\n",
       "   'policyArea': {'name': 'Armed Forces and National Security'},\n",
       "   'title': 'VA Data Transparency and Trust Act',\n",
       "   'type': 'HR',\n",
       "   'url': 'https://api.congress.gov/v3/bill/119/hr/3643?format=json'},\n",
       "  {'congress': 119,\n",
       "   'introducedDate': '2025-05-17',\n",
       "   'latestAction': {'actionDate': '2025-05-18',\n",
       "    'text': 'Referred to the Subcommittee on Aviation.'},\n",
       "   'number': '3478',\n",
       "   'policyArea': {'name': 'Crime and Law Enforcement'},\n",
       "   'title': 'Manned Aircraft Clarification Act',\n",
       "   'type': 'HR',\n",
       "   'url': 'https://api.congress.gov/v3/bill/119/hr/3478?format=json'},\n",
       "  {'congress': 119,\n",
       "   'introducedDate': '2025-02-26',\n",
       "   'latestAction': {'actionDate': '2025-02-26',\n",
       "    'text': 'Referred to the House Committee on Natural Resources.'},\n",
       "   'number': '1622',\n",
       "   'policyArea': {'name': 'Energy'},\n",
       "   'title': 'Uranium for Energy Independence Act of 2025',\n",
       "   'type': 'HR',\n",
       "   'url': 'https://api.congress.gov/v3/bill/119/hr/1622?format=json'},\n",
       "  {'congress': 119,\n",
       "   'introducedDate': '2025-02-21',\n",
       "   'latestAction': {'actionDate': '2025-02-26',\n",
       "    'text': 'Sponsor introductory remarks on measure. (CR H845)'},\n",
       "   'number': '1487',\n",
       "   'policyArea': {'name': 'Transportation and Public Works'},\n",
       "   'title': 'Agricultural and Forestry Hauling Efficiency Act',\n",
       "   'type': 'HR',\n",
       "   'url': 'https://api.congress.gov/v3/bill/119/hr/1487?format=json'}]}"
      ]
     },
     "execution_count": 34,
     "metadata": {},
     "output_type": "execute_result"
    }
   ],
   "source": [
    "root = 'https://api.congress.gov/v3/'\n",
    "endpoint = f'member/{bioguideId}/sponsored-legislation'\n",
    "\n",
    "params = {'api_key': congresskey,\n",
    "          'format': 'json',\n",
    "          'offset': 0,\n",
    "          'limit': 250}\n",
    "\n",
    "r = requests.get(root + endpoint, headers = headers, params = params)\n",
    "r.json()"
   ]
  }
 ],
 "metadata": {
  "kernelspec": {
   "display_name": "ds6001",
   "language": "python",
   "name": "python3"
  },
  "language_info": {
   "codemirror_mode": {
    "name": "ipython",
    "version": 3
   },
   "file_extension": ".py",
   "mimetype": "text/x-python",
   "name": "python",
   "nbconvert_exporter": "python",
   "pygments_lexer": "ipython3",
   "version": "3.13.5"
  }
 },
 "nbformat": 4,
 "nbformat_minor": 5
}
